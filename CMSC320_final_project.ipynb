{
  "nbformat": 4,
  "nbformat_minor": 0,
  "metadata": {
    "colab": {
      "provenance": []
    },
    "kernelspec": {
      "name": "python3",
      "display_name": "Python 3"
    },
    "language_info": {
      "name": "python"
    }
  },
  "cells": [
    {
      "cell_type": "markdown",
      "source": [
        "# **Analysis of Earthquakes in North America from 2000 through 2023**"
      ],
      "metadata": {
        "id": "necrDByOhZZZ"
      }
    },
    {
      "cell_type": "markdown",
      "source": [
        "## Spring 2024 Data Science Project"
      ],
      "metadata": {
        "id": "PF2HLTUmliIK"
      }
    },
    {
      "cell_type": "markdown",
      "source": [
        "Yvonne Tolbert, Emily Zhu, Adithya Koshanam"
      ],
      "metadata": {
        "id": "Jf4T8u2Jhujx"
      }
    },
    {
      "cell_type": "markdown",
      "source": [
        "\n",
        "\n",
        "---\n",
        "\n"
      ],
      "metadata": {
        "id": "HhsAGP54h8CE"
      }
    },
    {
      "cell_type": "markdown",
      "source": [
        "## 1. Introduction"
      ],
      "metadata": {
        "id": "L2Lww1cHh0ZB"
      }
    },
    {
      "cell_type": "markdown",
      "source": [
        "The purpose of this project is to take you through the different steps of a data science project. To do this, our group has chosen to look at earthquake data between the years 2000-2023 to see how drastic earthquakes have been in the countermineous United States. It's known that climate change can have an impact on intensity of natural disasters, including earthquakes. Earth's temperature has increased about 0.11 degrees each decade, and so we look through 2 decades of earthquake data to see if this rise in temperature has had an effect on the strength of earthquakes throughout this time period.\n",
        "\n",
        "This is important becasue of the effect that naural disasters can have on human lives. Earthquakes can result in thousands of casualities and cause millions in dollars in damage to the cities affected. By looking at the earthquakes in different states, we can figure out which states are most at risk of earthquakes as climate change gets worse. Not only this, but we can also use this data to observe how the strength of earthquakes change as a result of the climate change.\n",
        "\n",
        "In this we will be going over these topics of the Data Life Cycle:\n",
        "\n",
        "\n",
        "1.   Data Collection\n",
        "2.   Data Cleaning\n",
        "3.   Data Analysis and Visualization\n",
        "4.   Hypothesis Testing\n",
        "5.   Machine Learning\n",
        "6.   Insights and Conclusions\n",
        "\n",
        "\n",
        "\n"
      ],
      "metadata": {
        "id": "KEALZPsoihfj"
      }
    },
    {
      "cell_type": "markdown",
      "source": [
        "---"
      ],
      "metadata": {
        "id": "EOncsVtpKU-d"
      }
    },
    {
      "cell_type": "markdown",
      "source": [
        "# 2. Data Curation"
      ],
      "metadata": {
        "id": "L94IRqCG_Tev"
      }
    },
    {
      "cell_type": "markdown",
      "source": [
        "At this point in the Data Life Cycle, we are looking for a data set that we can use to get the information we need. We needed a reliable source that would give us detailed information about the earthquakes throughout the United States. Luckily, there is a government website that contains all the information we were looking for. All of our data was gathered from [United States Geological Survey](https://earthquake.usgs.gov/earthquakes/search/). We set the search parameters to the years and location were looking for and downloaded the csv. We then added the csv to this project in order for our code to access the data.\n",
        "\n",
        "The earthquake data we included is from January 1st, 2000 to December 31st, 2023, where the earthquake magnitude was 4.5+ and located in the counterminous United States. We gathered this data from the website and compiled it into one large CSV file."
      ],
      "metadata": {
        "id": "d-mzRkT-_agl"
      }
    },
    {
      "cell_type": "markdown",
      "source": [
        "To begin, we need to import libraries in order to properly develop this project.\n",
        "\n",
        "Below are our imports:"
      ],
      "metadata": {
        "id": "WQkoe8h6LbJs"
      }
    },
    {
      "cell_type": "code",
      "execution_count": 380,
      "metadata": {
        "id": "r7raGFmN45ra"
      },
      "outputs": [],
      "source": [
        "import pandas as pd\n",
        "import numpy as np\n",
        "from scipy import stats\n",
        "import matplotlib as p\n",
        "from scipy.stats import ttest_ind\n",
        "import matplotlib.pyplot as plt\n",
        "\n",
        "from sklearn.model_selection import train_test_split\n",
        "from sklearn.linear_model import LinearRegression\n",
        "from sklearn.metrics import mean_squared_error"
      ]
    },
    {
      "cell_type": "markdown",
      "source": [
        "Now that we have inmported all the necesary libraries, we can display the csv file with the earthquake data. The earthquake CSV has been displayed below."
      ],
      "metadata": {
        "id": "JQtixQKDXt7l"
      }
    },
    {
      "cell_type": "code",
      "source": [
        "earthquakes = pd.read_csv('00 to 23 US earthquakes.csv')\n",
        "\n",
        "display(earthquakes)"
      ],
      "metadata": {
        "colab": {
          "base_uri": "https://localhost:8080/",
          "height": 929
        },
        "id": "aNeu5xse9EHz",
        "outputId": "ed5f0f0c-98a5-4fcc-c483-4f64f15af9d4"
      },
      "execution_count": 381,
      "outputs": [
        {
          "output_type": "display_data",
          "data": {
            "text/plain": [
              "                         time   latitude   longitude   depth   mag  \\\n",
              "0    2023-12-01T07:43:27.480Z  32.751833 -115.872833   8.690  4.80   \n",
              "1    2023-11-13T07:07:48.263Z  25.744900 -110.139000  10.000  4.50   \n",
              "2    2023-11-08T10:27:49.034Z  31.622000 -103.982000   7.417  5.20   \n",
              "3    2023-10-16T10:20:49.740Z  40.315667 -124.054833  31.060  4.83   \n",
              "4    2023-09-30T15:26:26.760Z  40.558833 -124.288667  17.880  4.65   \n",
              "..                        ...        ...         ...     ...   ...   \n",
              "686  2000-04-25T14:06:26.070Z  32.130667 -115.095833   5.963  4.50   \n",
              "687  2000-03-24T04:23:45.750Z  27.551000 -111.303000  10.000  5.60   \n",
              "688  2000-03-04T02:42:01.000Z  49.170000 -114.030000   1.000  4.60   \n",
              "689  2000-01-11T14:19:52.090Z  38.769333 -122.913833   5.770  4.59   \n",
              "690  2000-01-01T11:22:57.000Z  46.888000  -78.930000  18.000  4.70   \n",
              "\n",
              "        magType    nst    gap     dmin   rms  ...                   updated  \\\n",
              "0            mw   95.0   29.0  0.11210  0.26  ...  2024-02-13T17:10:27.150Z   \n",
              "1            mb  145.0  131.0  1.00200  0.59  ...  2024-01-26T16:37:37.040Z   \n",
              "2    ml(texnet)   31.0   52.0  0.00000  0.20  ...  2024-03-20T10:37:59.727Z   \n",
              "3            mw   45.0   52.0  0.04720  0.12  ...  2024-01-06T18:47:18.663Z   \n",
              "4            mw   45.0  166.0  0.02573  0.20  ...  2023-12-09T22:00:42.040Z   \n",
              "..          ...    ...    ...      ...   ...  ...                       ...   \n",
              "686          ml   26.0  246.0  0.61400  0.55  ...  2017-02-09T01:28:13.654Z   \n",
              "687         mwc    NaN    NaN      NaN  1.35  ...  2022-04-29T19:02:52.631Z   \n",
              "688          ml    NaN    NaN      NaN   NaN  ...  2014-11-07T01:09:38.781Z   \n",
              "689          mw   50.0   48.0  0.05405  0.10  ...  2017-03-17T16:02:40.504Z   \n",
              "690          mb    NaN    NaN      NaN   NaN  ...  2020-09-15T21:12:00.131Z   \n",
              "\n",
              "                                             place        type  \\\n",
              "0                          11 km E of Ocotillo, CA  earthquake   \n",
              "1    81 km W of Las Grullas Margen Derecha, Mexico  earthquake   \n",
              "2                              Coalson Draw, Texas  earthquake   \n",
              "3                          20 km E of Petrolia, CA  earthquake   \n",
              "4                          3 km SW of Ferndale, CA  earthquake   \n",
              "..                                             ...         ...   \n",
              "686         11km SW of Estacion Coahuila, B.C., MX  earthquake   \n",
              "687                51 km SSW of San Carlos, Mexico  earthquake   \n",
              "688               35 km S of Pincher Creek, Canada  earthquake   \n",
              "689              6 km N of Geyserville, California  earthquake   \n",
              "690         17 km NNE of Notre-Dame-du-Lac, Canada  earthquake   \n",
              "\n",
              "    horizontalError depthError  magError  magNst    status  locationSource  \\\n",
              "0          0.170000   0.560000       NaN     6.0  reviewed              ci   \n",
              "1          4.390000   1.899000     0.050   119.0  reviewed              us   \n",
              "2          0.630666   0.841958     0.200    41.0  reviewed              tx   \n",
              "3          0.270000   0.590000       NaN     4.0  reviewed              nc   \n",
              "4          0.440000   0.290000       NaN     5.0  reviewed              nc   \n",
              "..              ...        ...       ...     ...       ...             ...   \n",
              "686        3.650000  31.610000     0.202   249.0  reviewed              ci   \n",
              "687             NaN        NaN       NaN     NaN  reviewed              us   \n",
              "688             NaN        NaN       NaN     NaN  reviewed             but   \n",
              "689        0.150000   0.390000       NaN    19.0  reviewed              nc   \n",
              "690             NaN        NaN       NaN    39.0  reviewed             ott   \n",
              "\n",
              "    magSource  \n",
              "0          ci  \n",
              "1          us  \n",
              "2          tx  \n",
              "3          nc  \n",
              "4          nc  \n",
              "..        ...  \n",
              "686        ci  \n",
              "687       hrv  \n",
              "688       but  \n",
              "689        nc  \n",
              "690        us  \n",
              "\n",
              "[691 rows x 22 columns]"
            ],
            "text/html": [
              "\n",
              "  <div id=\"df-cf344457-9cf1-463f-9e4b-0572fbcfe3a8\" class=\"colab-df-container\">\n",
              "    <div>\n",
              "<style scoped>\n",
              "    .dataframe tbody tr th:only-of-type {\n",
              "        vertical-align: middle;\n",
              "    }\n",
              "\n",
              "    .dataframe tbody tr th {\n",
              "        vertical-align: top;\n",
              "    }\n",
              "\n",
              "    .dataframe thead th {\n",
              "        text-align: right;\n",
              "    }\n",
              "</style>\n",
              "<table border=\"1\" class=\"dataframe\">\n",
              "  <thead>\n",
              "    <tr style=\"text-align: right;\">\n",
              "      <th></th>\n",
              "      <th>time</th>\n",
              "      <th>latitude</th>\n",
              "      <th>longitude</th>\n",
              "      <th>depth</th>\n",
              "      <th>mag</th>\n",
              "      <th>magType</th>\n",
              "      <th>nst</th>\n",
              "      <th>gap</th>\n",
              "      <th>dmin</th>\n",
              "      <th>rms</th>\n",
              "      <th>...</th>\n",
              "      <th>updated</th>\n",
              "      <th>place</th>\n",
              "      <th>type</th>\n",
              "      <th>horizontalError</th>\n",
              "      <th>depthError</th>\n",
              "      <th>magError</th>\n",
              "      <th>magNst</th>\n",
              "      <th>status</th>\n",
              "      <th>locationSource</th>\n",
              "      <th>magSource</th>\n",
              "    </tr>\n",
              "  </thead>\n",
              "  <tbody>\n",
              "    <tr>\n",
              "      <th>0</th>\n",
              "      <td>2023-12-01T07:43:27.480Z</td>\n",
              "      <td>32.751833</td>\n",
              "      <td>-115.872833</td>\n",
              "      <td>8.690</td>\n",
              "      <td>4.80</td>\n",
              "      <td>mw</td>\n",
              "      <td>95.0</td>\n",
              "      <td>29.0</td>\n",
              "      <td>0.11210</td>\n",
              "      <td>0.26</td>\n",
              "      <td>...</td>\n",
              "      <td>2024-02-13T17:10:27.150Z</td>\n",
              "      <td>11 km E of Ocotillo, CA</td>\n",
              "      <td>earthquake</td>\n",
              "      <td>0.170000</td>\n",
              "      <td>0.560000</td>\n",
              "      <td>NaN</td>\n",
              "      <td>6.0</td>\n",
              "      <td>reviewed</td>\n",
              "      <td>ci</td>\n",
              "      <td>ci</td>\n",
              "    </tr>\n",
              "    <tr>\n",
              "      <th>1</th>\n",
              "      <td>2023-11-13T07:07:48.263Z</td>\n",
              "      <td>25.744900</td>\n",
              "      <td>-110.139000</td>\n",
              "      <td>10.000</td>\n",
              "      <td>4.50</td>\n",
              "      <td>mb</td>\n",
              "      <td>145.0</td>\n",
              "      <td>131.0</td>\n",
              "      <td>1.00200</td>\n",
              "      <td>0.59</td>\n",
              "      <td>...</td>\n",
              "      <td>2024-01-26T16:37:37.040Z</td>\n",
              "      <td>81 km W of Las Grullas Margen Derecha, Mexico</td>\n",
              "      <td>earthquake</td>\n",
              "      <td>4.390000</td>\n",
              "      <td>1.899000</td>\n",
              "      <td>0.050</td>\n",
              "      <td>119.0</td>\n",
              "      <td>reviewed</td>\n",
              "      <td>us</td>\n",
              "      <td>us</td>\n",
              "    </tr>\n",
              "    <tr>\n",
              "      <th>2</th>\n",
              "      <td>2023-11-08T10:27:49.034Z</td>\n",
              "      <td>31.622000</td>\n",
              "      <td>-103.982000</td>\n",
              "      <td>7.417</td>\n",
              "      <td>5.20</td>\n",
              "      <td>ml(texnet)</td>\n",
              "      <td>31.0</td>\n",
              "      <td>52.0</td>\n",
              "      <td>0.00000</td>\n",
              "      <td>0.20</td>\n",
              "      <td>...</td>\n",
              "      <td>2024-03-20T10:37:59.727Z</td>\n",
              "      <td>Coalson Draw, Texas</td>\n",
              "      <td>earthquake</td>\n",
              "      <td>0.630666</td>\n",
              "      <td>0.841958</td>\n",
              "      <td>0.200</td>\n",
              "      <td>41.0</td>\n",
              "      <td>reviewed</td>\n",
              "      <td>tx</td>\n",
              "      <td>tx</td>\n",
              "    </tr>\n",
              "    <tr>\n",
              "      <th>3</th>\n",
              "      <td>2023-10-16T10:20:49.740Z</td>\n",
              "      <td>40.315667</td>\n",
              "      <td>-124.054833</td>\n",
              "      <td>31.060</td>\n",
              "      <td>4.83</td>\n",
              "      <td>mw</td>\n",
              "      <td>45.0</td>\n",
              "      <td>52.0</td>\n",
              "      <td>0.04720</td>\n",
              "      <td>0.12</td>\n",
              "      <td>...</td>\n",
              "      <td>2024-01-06T18:47:18.663Z</td>\n",
              "      <td>20 km E of Petrolia, CA</td>\n",
              "      <td>earthquake</td>\n",
              "      <td>0.270000</td>\n",
              "      <td>0.590000</td>\n",
              "      <td>NaN</td>\n",
              "      <td>4.0</td>\n",
              "      <td>reviewed</td>\n",
              "      <td>nc</td>\n",
              "      <td>nc</td>\n",
              "    </tr>\n",
              "    <tr>\n",
              "      <th>4</th>\n",
              "      <td>2023-09-30T15:26:26.760Z</td>\n",
              "      <td>40.558833</td>\n",
              "      <td>-124.288667</td>\n",
              "      <td>17.880</td>\n",
              "      <td>4.65</td>\n",
              "      <td>mw</td>\n",
              "      <td>45.0</td>\n",
              "      <td>166.0</td>\n",
              "      <td>0.02573</td>\n",
              "      <td>0.20</td>\n",
              "      <td>...</td>\n",
              "      <td>2023-12-09T22:00:42.040Z</td>\n",
              "      <td>3 km SW of Ferndale, CA</td>\n",
              "      <td>earthquake</td>\n",
              "      <td>0.440000</td>\n",
              "      <td>0.290000</td>\n",
              "      <td>NaN</td>\n",
              "      <td>5.0</td>\n",
              "      <td>reviewed</td>\n",
              "      <td>nc</td>\n",
              "      <td>nc</td>\n",
              "    </tr>\n",
              "    <tr>\n",
              "      <th>...</th>\n",
              "      <td>...</td>\n",
              "      <td>...</td>\n",
              "      <td>...</td>\n",
              "      <td>...</td>\n",
              "      <td>...</td>\n",
              "      <td>...</td>\n",
              "      <td>...</td>\n",
              "      <td>...</td>\n",
              "      <td>...</td>\n",
              "      <td>...</td>\n",
              "      <td>...</td>\n",
              "      <td>...</td>\n",
              "      <td>...</td>\n",
              "      <td>...</td>\n",
              "      <td>...</td>\n",
              "      <td>...</td>\n",
              "      <td>...</td>\n",
              "      <td>...</td>\n",
              "      <td>...</td>\n",
              "      <td>...</td>\n",
              "      <td>...</td>\n",
              "    </tr>\n",
              "    <tr>\n",
              "      <th>686</th>\n",
              "      <td>2000-04-25T14:06:26.070Z</td>\n",
              "      <td>32.130667</td>\n",
              "      <td>-115.095833</td>\n",
              "      <td>5.963</td>\n",
              "      <td>4.50</td>\n",
              "      <td>ml</td>\n",
              "      <td>26.0</td>\n",
              "      <td>246.0</td>\n",
              "      <td>0.61400</td>\n",
              "      <td>0.55</td>\n",
              "      <td>...</td>\n",
              "      <td>2017-02-09T01:28:13.654Z</td>\n",
              "      <td>11km SW of Estacion Coahuila, B.C., MX</td>\n",
              "      <td>earthquake</td>\n",
              "      <td>3.650000</td>\n",
              "      <td>31.610000</td>\n",
              "      <td>0.202</td>\n",
              "      <td>249.0</td>\n",
              "      <td>reviewed</td>\n",
              "      <td>ci</td>\n",
              "      <td>ci</td>\n",
              "    </tr>\n",
              "    <tr>\n",
              "      <th>687</th>\n",
              "      <td>2000-03-24T04:23:45.750Z</td>\n",
              "      <td>27.551000</td>\n",
              "      <td>-111.303000</td>\n",
              "      <td>10.000</td>\n",
              "      <td>5.60</td>\n",
              "      <td>mwc</td>\n",
              "      <td>NaN</td>\n",
              "      <td>NaN</td>\n",
              "      <td>NaN</td>\n",
              "      <td>1.35</td>\n",
              "      <td>...</td>\n",
              "      <td>2022-04-29T19:02:52.631Z</td>\n",
              "      <td>51 km SSW of San Carlos, Mexico</td>\n",
              "      <td>earthquake</td>\n",
              "      <td>NaN</td>\n",
              "      <td>NaN</td>\n",
              "      <td>NaN</td>\n",
              "      <td>NaN</td>\n",
              "      <td>reviewed</td>\n",
              "      <td>us</td>\n",
              "      <td>hrv</td>\n",
              "    </tr>\n",
              "    <tr>\n",
              "      <th>688</th>\n",
              "      <td>2000-03-04T02:42:01.000Z</td>\n",
              "      <td>49.170000</td>\n",
              "      <td>-114.030000</td>\n",
              "      <td>1.000</td>\n",
              "      <td>4.60</td>\n",
              "      <td>ml</td>\n",
              "      <td>NaN</td>\n",
              "      <td>NaN</td>\n",
              "      <td>NaN</td>\n",
              "      <td>NaN</td>\n",
              "      <td>...</td>\n",
              "      <td>2014-11-07T01:09:38.781Z</td>\n",
              "      <td>35 km S of Pincher Creek, Canada</td>\n",
              "      <td>earthquake</td>\n",
              "      <td>NaN</td>\n",
              "      <td>NaN</td>\n",
              "      <td>NaN</td>\n",
              "      <td>NaN</td>\n",
              "      <td>reviewed</td>\n",
              "      <td>but</td>\n",
              "      <td>but</td>\n",
              "    </tr>\n",
              "    <tr>\n",
              "      <th>689</th>\n",
              "      <td>2000-01-11T14:19:52.090Z</td>\n",
              "      <td>38.769333</td>\n",
              "      <td>-122.913833</td>\n",
              "      <td>5.770</td>\n",
              "      <td>4.59</td>\n",
              "      <td>mw</td>\n",
              "      <td>50.0</td>\n",
              "      <td>48.0</td>\n",
              "      <td>0.05405</td>\n",
              "      <td>0.10</td>\n",
              "      <td>...</td>\n",
              "      <td>2017-03-17T16:02:40.504Z</td>\n",
              "      <td>6 km N of Geyserville, California</td>\n",
              "      <td>earthquake</td>\n",
              "      <td>0.150000</td>\n",
              "      <td>0.390000</td>\n",
              "      <td>NaN</td>\n",
              "      <td>19.0</td>\n",
              "      <td>reviewed</td>\n",
              "      <td>nc</td>\n",
              "      <td>nc</td>\n",
              "    </tr>\n",
              "    <tr>\n",
              "      <th>690</th>\n",
              "      <td>2000-01-01T11:22:57.000Z</td>\n",
              "      <td>46.888000</td>\n",
              "      <td>-78.930000</td>\n",
              "      <td>18.000</td>\n",
              "      <td>4.70</td>\n",
              "      <td>mb</td>\n",
              "      <td>NaN</td>\n",
              "      <td>NaN</td>\n",
              "      <td>NaN</td>\n",
              "      <td>NaN</td>\n",
              "      <td>...</td>\n",
              "      <td>2020-09-15T21:12:00.131Z</td>\n",
              "      <td>17 km NNE of Notre-Dame-du-Lac, Canada</td>\n",
              "      <td>earthquake</td>\n",
              "      <td>NaN</td>\n",
              "      <td>NaN</td>\n",
              "      <td>NaN</td>\n",
              "      <td>39.0</td>\n",
              "      <td>reviewed</td>\n",
              "      <td>ott</td>\n",
              "      <td>us</td>\n",
              "    </tr>\n",
              "  </tbody>\n",
              "</table>\n",
              "<p>691 rows × 22 columns</p>\n",
              "</div>\n",
              "    <div class=\"colab-df-buttons\">\n",
              "\n",
              "  <div class=\"colab-df-container\">\n",
              "    <button class=\"colab-df-convert\" onclick=\"convertToInteractive('df-cf344457-9cf1-463f-9e4b-0572fbcfe3a8')\"\n",
              "            title=\"Convert this dataframe to an interactive table.\"\n",
              "            style=\"display:none;\">\n",
              "\n",
              "  <svg xmlns=\"http://www.w3.org/2000/svg\" height=\"24px\" viewBox=\"0 -960 960 960\">\n",
              "    <path d=\"M120-120v-720h720v720H120Zm60-500h600v-160H180v160Zm220 220h160v-160H400v160Zm0 220h160v-160H400v160ZM180-400h160v-160H180v160Zm440 0h160v-160H620v160ZM180-180h160v-160H180v160Zm440 0h160v-160H620v160Z\"/>\n",
              "  </svg>\n",
              "    </button>\n",
              "\n",
              "  <style>\n",
              "    .colab-df-container {\n",
              "      display:flex;\n",
              "      gap: 12px;\n",
              "    }\n",
              "\n",
              "    .colab-df-convert {\n",
              "      background-color: #E8F0FE;\n",
              "      border: none;\n",
              "      border-radius: 50%;\n",
              "      cursor: pointer;\n",
              "      display: none;\n",
              "      fill: #1967D2;\n",
              "      height: 32px;\n",
              "      padding: 0 0 0 0;\n",
              "      width: 32px;\n",
              "    }\n",
              "\n",
              "    .colab-df-convert:hover {\n",
              "      background-color: #E2EBFA;\n",
              "      box-shadow: 0px 1px 2px rgba(60, 64, 67, 0.3), 0px 1px 3px 1px rgba(60, 64, 67, 0.15);\n",
              "      fill: #174EA6;\n",
              "    }\n",
              "\n",
              "    .colab-df-buttons div {\n",
              "      margin-bottom: 4px;\n",
              "    }\n",
              "\n",
              "    [theme=dark] .colab-df-convert {\n",
              "      background-color: #3B4455;\n",
              "      fill: #D2E3FC;\n",
              "    }\n",
              "\n",
              "    [theme=dark] .colab-df-convert:hover {\n",
              "      background-color: #434B5C;\n",
              "      box-shadow: 0px 1px 3px 1px rgba(0, 0, 0, 0.15);\n",
              "      filter: drop-shadow(0px 1px 2px rgba(0, 0, 0, 0.3));\n",
              "      fill: #FFFFFF;\n",
              "    }\n",
              "  </style>\n",
              "\n",
              "    <script>\n",
              "      const buttonEl =\n",
              "        document.querySelector('#df-cf344457-9cf1-463f-9e4b-0572fbcfe3a8 button.colab-df-convert');\n",
              "      buttonEl.style.display =\n",
              "        google.colab.kernel.accessAllowed ? 'block' : 'none';\n",
              "\n",
              "      async function convertToInteractive(key) {\n",
              "        const element = document.querySelector('#df-cf344457-9cf1-463f-9e4b-0572fbcfe3a8');\n",
              "        const dataTable =\n",
              "          await google.colab.kernel.invokeFunction('convertToInteractive',\n",
              "                                                    [key], {});\n",
              "        if (!dataTable) return;\n",
              "\n",
              "        const docLinkHtml = 'Like what you see? Visit the ' +\n",
              "          '<a target=\"_blank\" href=https://colab.research.google.com/notebooks/data_table.ipynb>data table notebook</a>'\n",
              "          + ' to learn more about interactive tables.';\n",
              "        element.innerHTML = '';\n",
              "        dataTable['output_type'] = 'display_data';\n",
              "        await google.colab.output.renderOutput(dataTable, element);\n",
              "        const docLink = document.createElement('div');\n",
              "        docLink.innerHTML = docLinkHtml;\n",
              "        element.appendChild(docLink);\n",
              "      }\n",
              "    </script>\n",
              "  </div>\n",
              "\n",
              "\n",
              "<div id=\"df-f6f967bc-c0b0-430f-a53c-f363465e5f52\">\n",
              "  <button class=\"colab-df-quickchart\" onclick=\"quickchart('df-f6f967bc-c0b0-430f-a53c-f363465e5f52')\"\n",
              "            title=\"Suggest charts\"\n",
              "            style=\"display:none;\">\n",
              "\n",
              "<svg xmlns=\"http://www.w3.org/2000/svg\" height=\"24px\"viewBox=\"0 0 24 24\"\n",
              "     width=\"24px\">\n",
              "    <g>\n",
              "        <path d=\"M19 3H5c-1.1 0-2 .9-2 2v14c0 1.1.9 2 2 2h14c1.1 0 2-.9 2-2V5c0-1.1-.9-2-2-2zM9 17H7v-7h2v7zm4 0h-2V7h2v10zm4 0h-2v-4h2v4z\"/>\n",
              "    </g>\n",
              "</svg>\n",
              "  </button>\n",
              "\n",
              "<style>\n",
              "  .colab-df-quickchart {\n",
              "      --bg-color: #E8F0FE;\n",
              "      --fill-color: #1967D2;\n",
              "      --hover-bg-color: #E2EBFA;\n",
              "      --hover-fill-color: #174EA6;\n",
              "      --disabled-fill-color: #AAA;\n",
              "      --disabled-bg-color: #DDD;\n",
              "  }\n",
              "\n",
              "  [theme=dark] .colab-df-quickchart {\n",
              "      --bg-color: #3B4455;\n",
              "      --fill-color: #D2E3FC;\n",
              "      --hover-bg-color: #434B5C;\n",
              "      --hover-fill-color: #FFFFFF;\n",
              "      --disabled-bg-color: #3B4455;\n",
              "      --disabled-fill-color: #666;\n",
              "  }\n",
              "\n",
              "  .colab-df-quickchart {\n",
              "    background-color: var(--bg-color);\n",
              "    border: none;\n",
              "    border-radius: 50%;\n",
              "    cursor: pointer;\n",
              "    display: none;\n",
              "    fill: var(--fill-color);\n",
              "    height: 32px;\n",
              "    padding: 0;\n",
              "    width: 32px;\n",
              "  }\n",
              "\n",
              "  .colab-df-quickchart:hover {\n",
              "    background-color: var(--hover-bg-color);\n",
              "    box-shadow: 0 1px 2px rgba(60, 64, 67, 0.3), 0 1px 3px 1px rgba(60, 64, 67, 0.15);\n",
              "    fill: var(--button-hover-fill-color);\n",
              "  }\n",
              "\n",
              "  .colab-df-quickchart-complete:disabled,\n",
              "  .colab-df-quickchart-complete:disabled:hover {\n",
              "    background-color: var(--disabled-bg-color);\n",
              "    fill: var(--disabled-fill-color);\n",
              "    box-shadow: none;\n",
              "  }\n",
              "\n",
              "  .colab-df-spinner {\n",
              "    border: 2px solid var(--fill-color);\n",
              "    border-color: transparent;\n",
              "    border-bottom-color: var(--fill-color);\n",
              "    animation:\n",
              "      spin 1s steps(1) infinite;\n",
              "  }\n",
              "\n",
              "  @keyframes spin {\n",
              "    0% {\n",
              "      border-color: transparent;\n",
              "      border-bottom-color: var(--fill-color);\n",
              "      border-left-color: var(--fill-color);\n",
              "    }\n",
              "    20% {\n",
              "      border-color: transparent;\n",
              "      border-left-color: var(--fill-color);\n",
              "      border-top-color: var(--fill-color);\n",
              "    }\n",
              "    30% {\n",
              "      border-color: transparent;\n",
              "      border-left-color: var(--fill-color);\n",
              "      border-top-color: var(--fill-color);\n",
              "      border-right-color: var(--fill-color);\n",
              "    }\n",
              "    40% {\n",
              "      border-color: transparent;\n",
              "      border-right-color: var(--fill-color);\n",
              "      border-top-color: var(--fill-color);\n",
              "    }\n",
              "    60% {\n",
              "      border-color: transparent;\n",
              "      border-right-color: var(--fill-color);\n",
              "    }\n",
              "    80% {\n",
              "      border-color: transparent;\n",
              "      border-right-color: var(--fill-color);\n",
              "      border-bottom-color: var(--fill-color);\n",
              "    }\n",
              "    90% {\n",
              "      border-color: transparent;\n",
              "      border-bottom-color: var(--fill-color);\n",
              "    }\n",
              "  }\n",
              "</style>\n",
              "\n",
              "  <script>\n",
              "    async function quickchart(key) {\n",
              "      const quickchartButtonEl =\n",
              "        document.querySelector('#' + key + ' button');\n",
              "      quickchartButtonEl.disabled = true;  // To prevent multiple clicks.\n",
              "      quickchartButtonEl.classList.add('colab-df-spinner');\n",
              "      try {\n",
              "        const charts = await google.colab.kernel.invokeFunction(\n",
              "            'suggestCharts', [key], {});\n",
              "      } catch (error) {\n",
              "        console.error('Error during call to suggestCharts:', error);\n",
              "      }\n",
              "      quickchartButtonEl.classList.remove('colab-df-spinner');\n",
              "      quickchartButtonEl.classList.add('colab-df-quickchart-complete');\n",
              "    }\n",
              "    (() => {\n",
              "      let quickchartButtonEl =\n",
              "        document.querySelector('#df-f6f967bc-c0b0-430f-a53c-f363465e5f52 button');\n",
              "      quickchartButtonEl.style.display =\n",
              "        google.colab.kernel.accessAllowed ? 'block' : 'none';\n",
              "    })();\n",
              "  </script>\n",
              "</div>\n",
              "    </div>\n",
              "  </div>\n"
            ],
            "application/vnd.google.colaboratory.intrinsic+json": {
              "type": "dataframe",
              "variable_name": "earthquakes"
            }
          },
          "metadata": {}
        }
      ]
    },
    {
      "cell_type": "markdown",
      "source": [
        "---"
      ],
      "metadata": {
        "id": "m9hdo2wxKXV0"
      }
    },
    {
      "cell_type": "markdown",
      "source": [
        "# 2. Data Cleaning"
      ],
      "metadata": {
        "id": "VXSLK2M6AXfb"
      }
    },
    {
      "cell_type": "markdown",
      "source": [
        "Now that we have the data loaded into a visible csv file, we can edit the data to only include the information that is relevant to us, otherwise known as data cleaning. By getting rid of any irrelevant information we're able to focus on the data that we need to work with and not get distracted by values that help us achieve our goals."
      ],
      "metadata": {
        "id": "lt_PO6plMgi3"
      }
    },
    {
      "cell_type": "markdown",
      "source": [
        "Any unnecessary columns from the dataframe (latitude, longitude, depth, nst, gap, dmin, rms, type, magNst) have been removed below."
      ],
      "metadata": {
        "id": "BvlV6yNbAaxP"
      }
    },
    {
      "cell_type": "code",
      "source": [
        "earthquakes = earthquakes.drop(['latitude', 'longitude', 'depth', 'nst', 'gap', 'dmin', 'rms', 'type', 'magNst'], axis=1)\n",
        "\n",
        "display(earthquakes)"
      ],
      "metadata": {
        "colab": {
          "base_uri": "https://localhost:8080/",
          "height": 929
        },
        "id": "5fdtpUtt9TwR",
        "outputId": "0fb9c8eb-4907-4718-b97b-15941ea1c44e"
      },
      "execution_count": 382,
      "outputs": [
        {
          "output_type": "display_data",
          "data": {
            "text/plain": [
              "                         time   mag     magType net          id  \\\n",
              "0    2023-12-01T07:43:27.480Z  4.80          mw  ci  ci39720706   \n",
              "1    2023-11-13T07:07:48.263Z  4.50          mb  us  us7000lale   \n",
              "2    2023-11-08T10:27:49.034Z  5.20  ml(texnet)  tx  tx2023vxae   \n",
              "3    2023-10-16T10:20:49.740Z  4.83          mw  nc  nc73947830   \n",
              "4    2023-09-30T15:26:26.760Z  4.65          mw  nc  nc73943821   \n",
              "..                        ...   ...         ...  ..         ...   \n",
              "686  2000-04-25T14:06:26.070Z  4.50          ml  ci   ci9148478   \n",
              "687  2000-03-24T04:23:45.750Z  5.60         mwc  us  usp0009q39   \n",
              "688  2000-03-04T02:42:01.000Z  4.60          ml  us  usp0009p89   \n",
              "689  2000-01-11T14:19:52.090Z  4.59          mw  nc  nc21076750   \n",
              "690  2000-01-01T11:22:57.000Z  4.70          mb  us  usp0009kks   \n",
              "\n",
              "                      updated                                          place  \\\n",
              "0    2024-02-13T17:10:27.150Z                        11 km E of Ocotillo, CA   \n",
              "1    2024-01-26T16:37:37.040Z  81 km W of Las Grullas Margen Derecha, Mexico   \n",
              "2    2024-03-20T10:37:59.727Z                            Coalson Draw, Texas   \n",
              "3    2024-01-06T18:47:18.663Z                        20 km E of Petrolia, CA   \n",
              "4    2023-12-09T22:00:42.040Z                        3 km SW of Ferndale, CA   \n",
              "..                        ...                                            ...   \n",
              "686  2017-02-09T01:28:13.654Z         11km SW of Estacion Coahuila, B.C., MX   \n",
              "687  2022-04-29T19:02:52.631Z                51 km SSW of San Carlos, Mexico   \n",
              "688  2014-11-07T01:09:38.781Z               35 km S of Pincher Creek, Canada   \n",
              "689  2017-03-17T16:02:40.504Z              6 km N of Geyserville, California   \n",
              "690  2020-09-15T21:12:00.131Z         17 km NNE of Notre-Dame-du-Lac, Canada   \n",
              "\n",
              "     horizontalError  depthError  magError    status locationSource magSource  \n",
              "0           0.170000    0.560000       NaN  reviewed             ci        ci  \n",
              "1           4.390000    1.899000     0.050  reviewed             us        us  \n",
              "2           0.630666    0.841958     0.200  reviewed             tx        tx  \n",
              "3           0.270000    0.590000       NaN  reviewed             nc        nc  \n",
              "4           0.440000    0.290000       NaN  reviewed             nc        nc  \n",
              "..               ...         ...       ...       ...            ...       ...  \n",
              "686         3.650000   31.610000     0.202  reviewed             ci        ci  \n",
              "687              NaN         NaN       NaN  reviewed             us       hrv  \n",
              "688              NaN         NaN       NaN  reviewed            but       but  \n",
              "689         0.150000    0.390000       NaN  reviewed             nc        nc  \n",
              "690              NaN         NaN       NaN  reviewed            ott        us  \n",
              "\n",
              "[691 rows x 13 columns]"
            ],
            "text/html": [
              "\n",
              "  <div id=\"df-23dcf352-154d-4631-b74b-ec6ca6f53b53\" class=\"colab-df-container\">\n",
              "    <div>\n",
              "<style scoped>\n",
              "    .dataframe tbody tr th:only-of-type {\n",
              "        vertical-align: middle;\n",
              "    }\n",
              "\n",
              "    .dataframe tbody tr th {\n",
              "        vertical-align: top;\n",
              "    }\n",
              "\n",
              "    .dataframe thead th {\n",
              "        text-align: right;\n",
              "    }\n",
              "</style>\n",
              "<table border=\"1\" class=\"dataframe\">\n",
              "  <thead>\n",
              "    <tr style=\"text-align: right;\">\n",
              "      <th></th>\n",
              "      <th>time</th>\n",
              "      <th>mag</th>\n",
              "      <th>magType</th>\n",
              "      <th>net</th>\n",
              "      <th>id</th>\n",
              "      <th>updated</th>\n",
              "      <th>place</th>\n",
              "      <th>horizontalError</th>\n",
              "      <th>depthError</th>\n",
              "      <th>magError</th>\n",
              "      <th>status</th>\n",
              "      <th>locationSource</th>\n",
              "      <th>magSource</th>\n",
              "    </tr>\n",
              "  </thead>\n",
              "  <tbody>\n",
              "    <tr>\n",
              "      <th>0</th>\n",
              "      <td>2023-12-01T07:43:27.480Z</td>\n",
              "      <td>4.80</td>\n",
              "      <td>mw</td>\n",
              "      <td>ci</td>\n",
              "      <td>ci39720706</td>\n",
              "      <td>2024-02-13T17:10:27.150Z</td>\n",
              "      <td>11 km E of Ocotillo, CA</td>\n",
              "      <td>0.170000</td>\n",
              "      <td>0.560000</td>\n",
              "      <td>NaN</td>\n",
              "      <td>reviewed</td>\n",
              "      <td>ci</td>\n",
              "      <td>ci</td>\n",
              "    </tr>\n",
              "    <tr>\n",
              "      <th>1</th>\n",
              "      <td>2023-11-13T07:07:48.263Z</td>\n",
              "      <td>4.50</td>\n",
              "      <td>mb</td>\n",
              "      <td>us</td>\n",
              "      <td>us7000lale</td>\n",
              "      <td>2024-01-26T16:37:37.040Z</td>\n",
              "      <td>81 km W of Las Grullas Margen Derecha, Mexico</td>\n",
              "      <td>4.390000</td>\n",
              "      <td>1.899000</td>\n",
              "      <td>0.050</td>\n",
              "      <td>reviewed</td>\n",
              "      <td>us</td>\n",
              "      <td>us</td>\n",
              "    </tr>\n",
              "    <tr>\n",
              "      <th>2</th>\n",
              "      <td>2023-11-08T10:27:49.034Z</td>\n",
              "      <td>5.20</td>\n",
              "      <td>ml(texnet)</td>\n",
              "      <td>tx</td>\n",
              "      <td>tx2023vxae</td>\n",
              "      <td>2024-03-20T10:37:59.727Z</td>\n",
              "      <td>Coalson Draw, Texas</td>\n",
              "      <td>0.630666</td>\n",
              "      <td>0.841958</td>\n",
              "      <td>0.200</td>\n",
              "      <td>reviewed</td>\n",
              "      <td>tx</td>\n",
              "      <td>tx</td>\n",
              "    </tr>\n",
              "    <tr>\n",
              "      <th>3</th>\n",
              "      <td>2023-10-16T10:20:49.740Z</td>\n",
              "      <td>4.83</td>\n",
              "      <td>mw</td>\n",
              "      <td>nc</td>\n",
              "      <td>nc73947830</td>\n",
              "      <td>2024-01-06T18:47:18.663Z</td>\n",
              "      <td>20 km E of Petrolia, CA</td>\n",
              "      <td>0.270000</td>\n",
              "      <td>0.590000</td>\n",
              "      <td>NaN</td>\n",
              "      <td>reviewed</td>\n",
              "      <td>nc</td>\n",
              "      <td>nc</td>\n",
              "    </tr>\n",
              "    <tr>\n",
              "      <th>4</th>\n",
              "      <td>2023-09-30T15:26:26.760Z</td>\n",
              "      <td>4.65</td>\n",
              "      <td>mw</td>\n",
              "      <td>nc</td>\n",
              "      <td>nc73943821</td>\n",
              "      <td>2023-12-09T22:00:42.040Z</td>\n",
              "      <td>3 km SW of Ferndale, CA</td>\n",
              "      <td>0.440000</td>\n",
              "      <td>0.290000</td>\n",
              "      <td>NaN</td>\n",
              "      <td>reviewed</td>\n",
              "      <td>nc</td>\n",
              "      <td>nc</td>\n",
              "    </tr>\n",
              "    <tr>\n",
              "      <th>...</th>\n",
              "      <td>...</td>\n",
              "      <td>...</td>\n",
              "      <td>...</td>\n",
              "      <td>...</td>\n",
              "      <td>...</td>\n",
              "      <td>...</td>\n",
              "      <td>...</td>\n",
              "      <td>...</td>\n",
              "      <td>...</td>\n",
              "      <td>...</td>\n",
              "      <td>...</td>\n",
              "      <td>...</td>\n",
              "      <td>...</td>\n",
              "    </tr>\n",
              "    <tr>\n",
              "      <th>686</th>\n",
              "      <td>2000-04-25T14:06:26.070Z</td>\n",
              "      <td>4.50</td>\n",
              "      <td>ml</td>\n",
              "      <td>ci</td>\n",
              "      <td>ci9148478</td>\n",
              "      <td>2017-02-09T01:28:13.654Z</td>\n",
              "      <td>11km SW of Estacion Coahuila, B.C., MX</td>\n",
              "      <td>3.650000</td>\n",
              "      <td>31.610000</td>\n",
              "      <td>0.202</td>\n",
              "      <td>reviewed</td>\n",
              "      <td>ci</td>\n",
              "      <td>ci</td>\n",
              "    </tr>\n",
              "    <tr>\n",
              "      <th>687</th>\n",
              "      <td>2000-03-24T04:23:45.750Z</td>\n",
              "      <td>5.60</td>\n",
              "      <td>mwc</td>\n",
              "      <td>us</td>\n",
              "      <td>usp0009q39</td>\n",
              "      <td>2022-04-29T19:02:52.631Z</td>\n",
              "      <td>51 km SSW of San Carlos, Mexico</td>\n",
              "      <td>NaN</td>\n",
              "      <td>NaN</td>\n",
              "      <td>NaN</td>\n",
              "      <td>reviewed</td>\n",
              "      <td>us</td>\n",
              "      <td>hrv</td>\n",
              "    </tr>\n",
              "    <tr>\n",
              "      <th>688</th>\n",
              "      <td>2000-03-04T02:42:01.000Z</td>\n",
              "      <td>4.60</td>\n",
              "      <td>ml</td>\n",
              "      <td>us</td>\n",
              "      <td>usp0009p89</td>\n",
              "      <td>2014-11-07T01:09:38.781Z</td>\n",
              "      <td>35 km S of Pincher Creek, Canada</td>\n",
              "      <td>NaN</td>\n",
              "      <td>NaN</td>\n",
              "      <td>NaN</td>\n",
              "      <td>reviewed</td>\n",
              "      <td>but</td>\n",
              "      <td>but</td>\n",
              "    </tr>\n",
              "    <tr>\n",
              "      <th>689</th>\n",
              "      <td>2000-01-11T14:19:52.090Z</td>\n",
              "      <td>4.59</td>\n",
              "      <td>mw</td>\n",
              "      <td>nc</td>\n",
              "      <td>nc21076750</td>\n",
              "      <td>2017-03-17T16:02:40.504Z</td>\n",
              "      <td>6 km N of Geyserville, California</td>\n",
              "      <td>0.150000</td>\n",
              "      <td>0.390000</td>\n",
              "      <td>NaN</td>\n",
              "      <td>reviewed</td>\n",
              "      <td>nc</td>\n",
              "      <td>nc</td>\n",
              "    </tr>\n",
              "    <tr>\n",
              "      <th>690</th>\n",
              "      <td>2000-01-01T11:22:57.000Z</td>\n",
              "      <td>4.70</td>\n",
              "      <td>mb</td>\n",
              "      <td>us</td>\n",
              "      <td>usp0009kks</td>\n",
              "      <td>2020-09-15T21:12:00.131Z</td>\n",
              "      <td>17 km NNE of Notre-Dame-du-Lac, Canada</td>\n",
              "      <td>NaN</td>\n",
              "      <td>NaN</td>\n",
              "      <td>NaN</td>\n",
              "      <td>reviewed</td>\n",
              "      <td>ott</td>\n",
              "      <td>us</td>\n",
              "    </tr>\n",
              "  </tbody>\n",
              "</table>\n",
              "<p>691 rows × 13 columns</p>\n",
              "</div>\n",
              "    <div class=\"colab-df-buttons\">\n",
              "\n",
              "  <div class=\"colab-df-container\">\n",
              "    <button class=\"colab-df-convert\" onclick=\"convertToInteractive('df-23dcf352-154d-4631-b74b-ec6ca6f53b53')\"\n",
              "            title=\"Convert this dataframe to an interactive table.\"\n",
              "            style=\"display:none;\">\n",
              "\n",
              "  <svg xmlns=\"http://www.w3.org/2000/svg\" height=\"24px\" viewBox=\"0 -960 960 960\">\n",
              "    <path d=\"M120-120v-720h720v720H120Zm60-500h600v-160H180v160Zm220 220h160v-160H400v160Zm0 220h160v-160H400v160ZM180-400h160v-160H180v160Zm440 0h160v-160H620v160ZM180-180h160v-160H180v160Zm440 0h160v-160H620v160Z\"/>\n",
              "  </svg>\n",
              "    </button>\n",
              "\n",
              "  <style>\n",
              "    .colab-df-container {\n",
              "      display:flex;\n",
              "      gap: 12px;\n",
              "    }\n",
              "\n",
              "    .colab-df-convert {\n",
              "      background-color: #E8F0FE;\n",
              "      border: none;\n",
              "      border-radius: 50%;\n",
              "      cursor: pointer;\n",
              "      display: none;\n",
              "      fill: #1967D2;\n",
              "      height: 32px;\n",
              "      padding: 0 0 0 0;\n",
              "      width: 32px;\n",
              "    }\n",
              "\n",
              "    .colab-df-convert:hover {\n",
              "      background-color: #E2EBFA;\n",
              "      box-shadow: 0px 1px 2px rgba(60, 64, 67, 0.3), 0px 1px 3px 1px rgba(60, 64, 67, 0.15);\n",
              "      fill: #174EA6;\n",
              "    }\n",
              "\n",
              "    .colab-df-buttons div {\n",
              "      margin-bottom: 4px;\n",
              "    }\n",
              "\n",
              "    [theme=dark] .colab-df-convert {\n",
              "      background-color: #3B4455;\n",
              "      fill: #D2E3FC;\n",
              "    }\n",
              "\n",
              "    [theme=dark] .colab-df-convert:hover {\n",
              "      background-color: #434B5C;\n",
              "      box-shadow: 0px 1px 3px 1px rgba(0, 0, 0, 0.15);\n",
              "      filter: drop-shadow(0px 1px 2px rgba(0, 0, 0, 0.3));\n",
              "      fill: #FFFFFF;\n",
              "    }\n",
              "  </style>\n",
              "\n",
              "    <script>\n",
              "      const buttonEl =\n",
              "        document.querySelector('#df-23dcf352-154d-4631-b74b-ec6ca6f53b53 button.colab-df-convert');\n",
              "      buttonEl.style.display =\n",
              "        google.colab.kernel.accessAllowed ? 'block' : 'none';\n",
              "\n",
              "      async function convertToInteractive(key) {\n",
              "        const element = document.querySelector('#df-23dcf352-154d-4631-b74b-ec6ca6f53b53');\n",
              "        const dataTable =\n",
              "          await google.colab.kernel.invokeFunction('convertToInteractive',\n",
              "                                                    [key], {});\n",
              "        if (!dataTable) return;\n",
              "\n",
              "        const docLinkHtml = 'Like what you see? Visit the ' +\n",
              "          '<a target=\"_blank\" href=https://colab.research.google.com/notebooks/data_table.ipynb>data table notebook</a>'\n",
              "          + ' to learn more about interactive tables.';\n",
              "        element.innerHTML = '';\n",
              "        dataTable['output_type'] = 'display_data';\n",
              "        await google.colab.output.renderOutput(dataTable, element);\n",
              "        const docLink = document.createElement('div');\n",
              "        docLink.innerHTML = docLinkHtml;\n",
              "        element.appendChild(docLink);\n",
              "      }\n",
              "    </script>\n",
              "  </div>\n",
              "\n",
              "\n",
              "<div id=\"df-afe3ede1-ee1b-43e8-ae54-b58f877cd3b2\">\n",
              "  <button class=\"colab-df-quickchart\" onclick=\"quickchart('df-afe3ede1-ee1b-43e8-ae54-b58f877cd3b2')\"\n",
              "            title=\"Suggest charts\"\n",
              "            style=\"display:none;\">\n",
              "\n",
              "<svg xmlns=\"http://www.w3.org/2000/svg\" height=\"24px\"viewBox=\"0 0 24 24\"\n",
              "     width=\"24px\">\n",
              "    <g>\n",
              "        <path d=\"M19 3H5c-1.1 0-2 .9-2 2v14c0 1.1.9 2 2 2h14c1.1 0 2-.9 2-2V5c0-1.1-.9-2-2-2zM9 17H7v-7h2v7zm4 0h-2V7h2v10zm4 0h-2v-4h2v4z\"/>\n",
              "    </g>\n",
              "</svg>\n",
              "  </button>\n",
              "\n",
              "<style>\n",
              "  .colab-df-quickchart {\n",
              "      --bg-color: #E8F0FE;\n",
              "      --fill-color: #1967D2;\n",
              "      --hover-bg-color: #E2EBFA;\n",
              "      --hover-fill-color: #174EA6;\n",
              "      --disabled-fill-color: #AAA;\n",
              "      --disabled-bg-color: #DDD;\n",
              "  }\n",
              "\n",
              "  [theme=dark] .colab-df-quickchart {\n",
              "      --bg-color: #3B4455;\n",
              "      --fill-color: #D2E3FC;\n",
              "      --hover-bg-color: #434B5C;\n",
              "      --hover-fill-color: #FFFFFF;\n",
              "      --disabled-bg-color: #3B4455;\n",
              "      --disabled-fill-color: #666;\n",
              "  }\n",
              "\n",
              "  .colab-df-quickchart {\n",
              "    background-color: var(--bg-color);\n",
              "    border: none;\n",
              "    border-radius: 50%;\n",
              "    cursor: pointer;\n",
              "    display: none;\n",
              "    fill: var(--fill-color);\n",
              "    height: 32px;\n",
              "    padding: 0;\n",
              "    width: 32px;\n",
              "  }\n",
              "\n",
              "  .colab-df-quickchart:hover {\n",
              "    background-color: var(--hover-bg-color);\n",
              "    box-shadow: 0 1px 2px rgba(60, 64, 67, 0.3), 0 1px 3px 1px rgba(60, 64, 67, 0.15);\n",
              "    fill: var(--button-hover-fill-color);\n",
              "  }\n",
              "\n",
              "  .colab-df-quickchart-complete:disabled,\n",
              "  .colab-df-quickchart-complete:disabled:hover {\n",
              "    background-color: var(--disabled-bg-color);\n",
              "    fill: var(--disabled-fill-color);\n",
              "    box-shadow: none;\n",
              "  }\n",
              "\n",
              "  .colab-df-spinner {\n",
              "    border: 2px solid var(--fill-color);\n",
              "    border-color: transparent;\n",
              "    border-bottom-color: var(--fill-color);\n",
              "    animation:\n",
              "      spin 1s steps(1) infinite;\n",
              "  }\n",
              "\n",
              "  @keyframes spin {\n",
              "    0% {\n",
              "      border-color: transparent;\n",
              "      border-bottom-color: var(--fill-color);\n",
              "      border-left-color: var(--fill-color);\n",
              "    }\n",
              "    20% {\n",
              "      border-color: transparent;\n",
              "      border-left-color: var(--fill-color);\n",
              "      border-top-color: var(--fill-color);\n",
              "    }\n",
              "    30% {\n",
              "      border-color: transparent;\n",
              "      border-left-color: var(--fill-color);\n",
              "      border-top-color: var(--fill-color);\n",
              "      border-right-color: var(--fill-color);\n",
              "    }\n",
              "    40% {\n",
              "      border-color: transparent;\n",
              "      border-right-color: var(--fill-color);\n",
              "      border-top-color: var(--fill-color);\n",
              "    }\n",
              "    60% {\n",
              "      border-color: transparent;\n",
              "      border-right-color: var(--fill-color);\n",
              "    }\n",
              "    80% {\n",
              "      border-color: transparent;\n",
              "      border-right-color: var(--fill-color);\n",
              "      border-bottom-color: var(--fill-color);\n",
              "    }\n",
              "    90% {\n",
              "      border-color: transparent;\n",
              "      border-bottom-color: var(--fill-color);\n",
              "    }\n",
              "  }\n",
              "</style>\n",
              "\n",
              "  <script>\n",
              "    async function quickchart(key) {\n",
              "      const quickchartButtonEl =\n",
              "        document.querySelector('#' + key + ' button');\n",
              "      quickchartButtonEl.disabled = true;  // To prevent multiple clicks.\n",
              "      quickchartButtonEl.classList.add('colab-df-spinner');\n",
              "      try {\n",
              "        const charts = await google.colab.kernel.invokeFunction(\n",
              "            'suggestCharts', [key], {});\n",
              "      } catch (error) {\n",
              "        console.error('Error during call to suggestCharts:', error);\n",
              "      }\n",
              "      quickchartButtonEl.classList.remove('colab-df-spinner');\n",
              "      quickchartButtonEl.classList.add('colab-df-quickchart-complete');\n",
              "    }\n",
              "    (() => {\n",
              "      let quickchartButtonEl =\n",
              "        document.querySelector('#df-afe3ede1-ee1b-43e8-ae54-b58f877cd3b2 button');\n",
              "      quickchartButtonEl.style.display =\n",
              "        google.colab.kernel.accessAllowed ? 'block' : 'none';\n",
              "    })();\n",
              "  </script>\n",
              "</div>\n",
              "    </div>\n",
              "  </div>\n"
            ],
            "application/vnd.google.colaboratory.intrinsic+json": {
              "type": "dataframe",
              "variable_name": "earthquakes",
              "summary": "{\n  \"name\": \"earthquakes\",\n  \"rows\": 691,\n  \"fields\": [\n    {\n      \"column\": \"time\",\n      \"properties\": {\n        \"dtype\": \"object\",\n        \"num_unique_values\": 691,\n        \"samples\": [\n          \"2011-03-13T16:07:34.890Z\",\n          \"2001-01-18T01:40:50.250Z\",\n          \"2015-09-13T07:57:33.460Z\"\n        ],\n        \"semantic_type\": \"\",\n        \"description\": \"\"\n      }\n    },\n    {\n      \"column\": \"mag\",\n      \"properties\": {\n        \"dtype\": \"number\",\n        \"std\": 0.466393172652972,\n        \"min\": 4.5,\n        \"max\": 7.2,\n        \"num_unique_values\": 106,\n        \"samples\": [\n          5.45,\n          5.48,\n          4.65\n        ],\n        \"semantic_type\": \"\",\n        \"description\": \"\"\n      }\n    },\n    {\n      \"column\": \"magType\",\n      \"properties\": {\n        \"dtype\": \"category\",\n        \"num_unique_values\": 14,\n        \"samples\": [\n          \"md\",\n          \"mlg\",\n          \"mw\"\n        ],\n        \"semantic_type\": \"\",\n        \"description\": \"\"\n      }\n    },\n    {\n      \"column\": \"net\",\n      \"properties\": {\n        \"dtype\": \"category\",\n        \"num_unique_values\": 12,\n        \"samples\": [\n          \"rusms\",\n          \"ld\",\n          \"ci\"\n        ],\n        \"semantic_type\": \"\",\n        \"description\": \"\"\n      }\n    },\n    {\n      \"column\": \"id\",\n      \"properties\": {\n        \"dtype\": \"string\",\n        \"num_unique_values\": 691,\n        \"samples\": [\n          \"usp000hwxf\",\n          \"usp000a7x0\",\n          \"us20003j4t\"\n        ],\n        \"semantic_type\": \"\",\n        \"description\": \"\"\n      }\n    },\n    {\n      \"column\": \"updated\",\n      \"properties\": {\n        \"dtype\": \"object\",\n        \"num_unique_values\": 683,\n        \"samples\": [\n          \"2013-12-30T23:41:17.000Z\",\n          \"2022-03-10T05:01:16.174Z\",\n          \"2017-12-13T02:29:34.040Z\"\n        ],\n        \"semantic_type\": \"\",\n        \"description\": \"\"\n      }\n    },\n    {\n      \"column\": \"place\",\n      \"properties\": {\n        \"dtype\": \"string\",\n        \"num_unique_values\": 629,\n        \"samples\": [\n          \"13 km SE of Walker, California\",\n          \"44 km E of Fort Bidwell, California\",\n          \"10 km SSE of Parkfield, California\"\n        ],\n        \"semantic_type\": \"\",\n        \"description\": \"\"\n      }\n    },\n    {\n      \"column\": \"horizontalError\",\n      \"properties\": {\n        \"dtype\": \"number\",\n        \"std\": 5.1983265948968596,\n        \"min\": 0.071,\n        \"max\": 99.0,\n        \"num_unique_values\": 209,\n        \"samples\": [\n          0.47,\n          1.75,\n          0.72\n        ],\n        \"semantic_type\": \"\",\n        \"description\": \"\"\n      }\n    },\n    {\n      \"column\": \"depthError\",\n      \"properties\": {\n        \"dtype\": \"number\",\n        \"std\": 9.538931067858185,\n        \"min\": 0.0,\n        \"max\": 31.95,\n        \"num_unique_values\": 198,\n        \"samples\": [\n          0.8,\n          0.1,\n          1.802\n        ],\n        \"semantic_type\": \"\",\n        \"description\": \"\"\n      }\n    },\n    {\n      \"column\": \"magError\",\n      \"properties\": {\n        \"dtype\": \"number\",\n        \"std\": 0.20810384420841221,\n        \"min\": 0.021,\n        \"max\": 1.642,\n        \"num_unique_values\": 139,\n        \"samples\": [\n          0.742,\n          0.111,\n          0.053\n        ],\n        \"semantic_type\": \"\",\n        \"description\": \"\"\n      }\n    },\n    {\n      \"column\": \"status\",\n      \"properties\": {\n        \"dtype\": \"category\",\n        \"num_unique_values\": 2,\n        \"samples\": [\n          \"automatic\",\n          \"reviewed\"\n        ],\n        \"semantic_type\": \"\",\n        \"description\": \"\"\n      }\n    },\n    {\n      \"column\": \"locationSource\",\n      \"properties\": {\n        \"dtype\": \"category\",\n        \"num_unique_values\": 20,\n        \"samples\": [\n          \"ci\",\n          \"pgc\"\n        ],\n        \"semantic_type\": \"\",\n        \"description\": \"\"\n      }\n    },\n    {\n      \"column\": \"magSource\",\n      \"properties\": {\n        \"dtype\": \"category\",\n        \"num_unique_values\": 14,\n        \"samples\": [\n          \"unm\",\n          \"nm\"\n        ],\n        \"semantic_type\": \"\",\n        \"description\": \"\"\n      }\n    }\n  ]\n}"
            }
          },
          "metadata": {}
        }
      ]
    },
    {
      "cell_type": "markdown",
      "source": [
        "---"
      ],
      "metadata": {
        "id": "ebU39zXBKZAH"
      }
    },
    {
      "cell_type": "markdown",
      "source": [
        "# 3. Exploratory Data Analysis"
      ],
      "metadata": {
        "id": "BmHryK76MkyV"
      }
    },
    {
      "cell_type": "markdown",
      "source": [
        "With the data cleaned, we can now focus on extracting different parts of the data and visualizing them with various graphs. To begin we start by looking at the magnitudes of earthquakes."
      ],
      "metadata": {
        "id": "4A4yB5kvNLJX"
      }
    },
    {
      "cell_type": "markdown",
      "source": [
        "In simple terms, magnitude of an earthquake is essentially how strong it is Let's take a closer look at the average magnitude of the earthquakes over the years.\n",
        "\n",
        "To do this, first lets replace the time with the years. Then, we can calculate the average magnitude."
      ],
      "metadata": {
        "id": "x7bh0SK9YN7u"
      }
    },
    {
      "cell_type": "code",
      "source": [
        "# copy the dataframe so we dont directly modify the original\n",
        "EarthquakesByYear = earthquakes\n",
        "\n",
        "# convert to date and time\n",
        "EarthquakesByYear['time'] = pd.to_datetime(EarthquakesByYear['time'])\n",
        "\n",
        "# extract the year\n",
        "EarthquakesByYear['year'] = EarthquakesByYear['time'].dt.year\n",
        "\n",
        "# now group by year and average magnitude\n",
        "print(EarthquakesByYear.groupby('year')['mag'].mean())\n"
      ],
      "metadata": {
        "id": "9YxsJIik8ITI",
        "colab": {
          "base_uri": "https://localhost:8080/"
        },
        "outputId": "6aea6cb7-0e70-4223-b4d7-f3d28e985480"
      },
      "execution_count": 383,
      "outputs": [
        {
          "output_type": "stream",
          "name": "stdout",
          "text": [
            "year\n",
            "2000    4.695714\n",
            "2001    5.066875\n",
            "2002    4.866000\n",
            "2003    4.957143\n",
            "2004    4.958333\n",
            "2005    4.897368\n",
            "2006    4.999200\n",
            "2007    5.028667\n",
            "2008    4.908333\n",
            "2009    5.016111\n",
            "2010    4.980370\n",
            "2011    4.862400\n",
            "2012    5.033235\n",
            "2013    5.026190\n",
            "2014    4.846667\n",
            "2015    4.995000\n",
            "2016    5.020000\n",
            "2017    4.940000\n",
            "2018    4.812143\n",
            "2019    4.832041\n",
            "2020    4.904182\n",
            "2021    4.816364\n",
            "2022    4.963226\n",
            "2023    4.794545\n",
            "Name: mag, dtype: float64\n"
          ]
        }
      ]
    },
    {
      "cell_type": "markdown",
      "source": [
        "Lets get a visual represntation of this data..."
      ],
      "metadata": {
        "id": "nPNbPaZxA1b9"
      }
    },
    {
      "cell_type": "code",
      "source": [
        "EarthquakesByYearData = EarthquakesByYear.groupby('year')['mag'].mean()\n",
        "\n",
        "EarthquakesByYearData.plot(kind = 'line', title = \"Average Earthquake Magnitude from 2000 through 2023\")"
      ],
      "metadata": {
        "colab": {
          "base_uri": "https://localhost:8080/",
          "height": 489
        },
        "id": "zknJ3JbEBGDx",
        "outputId": "6af88fff-fdec-48e2-9999-d3d8fa54b962"
      },
      "execution_count": 384,
      "outputs": [
        {
          "output_type": "execute_result",
          "data": {
            "text/plain": [
              "<Axes: title={'center': 'Average Earthquake Magnitude from 2000 through 2023'}, xlabel='year'>"
            ]
          },
          "metadata": {},
          "execution_count": 384
        },
        {
          "output_type": "display_data",
          "data": {
            "text/plain": [
              "<Figure size 640x480 with 1 Axes>"
            ],
            "image/png": "[encoded data removed]"
          },
          "metadata": {}
        }
      ]
    },
    {
      "cell_type": "markdown",
      "source": [
        "So, it is safe to conclude that the highest earthquake magnitude was in 2001, with an average magnitude of about 5.06."
      ],
      "metadata": {
        "id": "0DggVlDACiQd"
      }
    },
    {
      "cell_type": "markdown",
      "source": [
        "Hoever, to further assess, lets look at some statistics."
      ],
      "metadata": {
        "id": "xjmEACNEDLgO"
      }
    },
    {
      "cell_type": "code",
      "source": [
        "# assess the minimum each year\n",
        "print(\"min per year\")\n",
        "print(EarthquakesByYear.groupby('year')['mag'].min())\n",
        "\n",
        "# assess the maximum each year\n",
        "print(\"max per year\")\n",
        "print(EarthquakesByYear.groupby('year')['mag'].max())\n",
        "\n",
        "# assess the median each year\n",
        "print(\"median per year\")\n",
        "print(EarthquakesByYear.groupby('year')['mag'].median())\n",
        "\n",
        "# assess the standard deviation each year\n",
        "print(\"standard deviation per year\")\n",
        "print(EarthquakesByYear.groupby('year')['mag'].std())"
      ],
      "metadata": {
        "colab": {
          "base_uri": "https://localhost:8080/"
        },
        "id": "3iwr2vThDP8a",
        "outputId": "75eec571-5aef-4e48-de66-3f5662539521"
      },
      "execution_count": 385,
      "outputs": [
        {
          "output_type": "stream",
          "name": "stdout",
          "text": [
            "min per year\n",
            "year\n",
            "2000    4.5\n",
            "2001    4.5\n",
            "2002    4.5\n",
            "2003    4.5\n",
            "2004    4.5\n",
            "2005    4.5\n",
            "2006    4.5\n",
            "2007    4.5\n",
            "2008    4.5\n",
            "2009    4.5\n",
            "2010    4.5\n",
            "2011    4.5\n",
            "2012    4.5\n",
            "2013    4.5\n",
            "2014    4.5\n",
            "2015    4.5\n",
            "2016    4.5\n",
            "2017    4.5\n",
            "2018    4.5\n",
            "2019    4.5\n",
            "2020    4.5\n",
            "2021    4.5\n",
            "2022    4.5\n",
            "2023    4.5\n",
            "Name: mag, dtype: float64\n",
            "max per year\n",
            "year\n",
            "2000    5.60\n",
            "2001    6.80\n",
            "2002    5.70\n",
            "2003    6.50\n",
            "2004    5.97\n",
            "2005    5.60\n",
            "2006    6.60\n",
            "2007    6.10\n",
            "2008    5.90\n",
            "2009    6.90\n",
            "2010    7.20\n",
            "2011    6.00\n",
            "2012    7.00\n",
            "2013    6.60\n",
            "2014    6.02\n",
            "2015    6.70\n",
            "2016    5.80\n",
            "2017    5.80\n",
            "2018    6.30\n",
            "2019    7.10\n",
            "2020    6.50\n",
            "2021    6.20\n",
            "2022    6.40\n",
            "2023    5.48\n",
            "Name: mag, dtype: float64\n",
            "median per year\n",
            "year\n",
            "2000    4.600\n",
            "2001    4.965\n",
            "2002    4.770\n",
            "2003    4.800\n",
            "2004    4.890\n",
            "2005    4.880\n",
            "2006    4.900\n",
            "2007    5.000\n",
            "2008    4.865\n",
            "2009    4.875\n",
            "2010    4.795\n",
            "2011    4.765\n",
            "2012    4.835\n",
            "2013    4.800\n",
            "2014    4.700\n",
            "2015    4.845\n",
            "2016    5.005\n",
            "2017    4.700\n",
            "2018    4.630\n",
            "2019    4.640\n",
            "2020    4.800\n",
            "2021    4.700\n",
            "2022    4.750\n",
            "2023    4.700\n",
            "Name: mag, dtype: float64\n",
            "standard deviation per year\n",
            "year\n",
            "2000    0.294167\n",
            "2001    0.569815\n",
            "2002    0.366212\n",
            "2003    0.574797\n",
            "2004    0.436255\n",
            "2005    0.335176\n",
            "2006    0.520792\n",
            "2007    0.448805\n",
            "2008    0.312917\n",
            "2009    0.538592\n",
            "2010    0.568341\n",
            "2011    0.376545\n",
            "2012    0.624911\n",
            "2013    0.504405\n",
            "2014    0.369084\n",
            "2015    0.535286\n",
            "2016    0.397097\n",
            "2017    0.439338\n",
            "2018    0.480227\n",
            "2019    0.494853\n",
            "2020    0.446470\n",
            "2021    0.390260\n",
            "2022    0.512831\n",
            "2023    0.301989\n",
            "Name: mag, dtype: float64\n"
          ]
        }
      ]
    },
    {
      "cell_type": "markdown",
      "source": [
        "So it looks there are some outliers, lets take a closer look."
      ],
      "metadata": {
        "id": "L2eUrVSZEDsi"
      }
    },
    {
      "cell_type": "code",
      "source": [
        "EarthquakesByYear.boxplot(by = 'year', column = ['mag'], figsize=(20,15))"
      ],
      "metadata": {
        "colab": {
          "base_uri": "https://localhost:8080/",
          "height": 721
        },
        "id": "-TOdm-YVEZQe",
        "outputId": "faaf3fd7-7039-46c6-e2b8-abb14932e5cc"
      },
      "execution_count": 386,
      "outputs": [
        {
          "output_type": "execute_result",
          "data": {
            "text/plain": [
              "<Axes: title={'center': 'mag'}, xlabel='year'>"
            ]
          },
          "metadata": {},
          "execution_count": 386
        },
        {
          "output_type": "display_data",
          "data": {
            "text/plain": [
              "<Figure size 2000x1500 with 1 Axes>"
            ],
            "image/png": "[encoded data removed]"
          },
          "metadata": {}
        }
      ]
    },
    {
      "cell_type": "markdown",
      "source": [
        "Interesting...\n",
        "\n",
        "So we can also conclude that 2010 had the largest outlier, but it also looks like 2019 and 2021 had the most outliers with a total of 5.\n",
        "\n",
        "2001, 2005, 2016, and 2023 have no outliers so it is safe to use the mean to as the average. However, the rest of the years have pretty large outliers, so the median would be safer to use as a representation, since the data is heavily skewed.\n",
        "\n",
        "Something interesting you can see is that the amount of outliers increases as the years go up. But, 2019 and 2010 having larger outliers is very alarming."
      ],
      "metadata": {
        "id": "tZFdqwtmFxyq"
      }
    },
    {
      "cell_type": "markdown",
      "source": [
        "Now, lets assess the amount of earthquakes by location Source (where the earthquake occured)."
      ],
      "metadata": {
        "id": "A2ebT9s3Iltw"
      }
    },
    {
      "cell_type": "markdown",
      "source": [
        "First, lets clean the data set up a bit and replace instance where we see \"CA\" to \"California\", and \"MX\" to \"Mexico\"."
      ],
      "metadata": {
        "id": "eziHP4XJLHzT"
      }
    },
    {
      "cell_type": "code",
      "source": [
        "# let clean up the data first\n",
        "# copy\n",
        "EarthquakesByLocation = EarthquakesByYear\n",
        "\n",
        "# now go through each place and extract the state\n",
        "\n",
        "# first replace instances\n",
        "EarthquakesByLocation['place'] = EarthquakesByLocation['place'].str.replace('CA', 'California')\n",
        "EarthquakesByLocation['place'] = EarthquakesByLocation['place'].str.replace('MX', 'Mexico')\n",
        "EarthquakesByLocation['place'] = EarthquakesByLocation['place'].str.replace('NV', 'Nevada')\n",
        "EarthquakesByLocation['place'] = EarthquakesByLocation['place'].str.replace('NV Earthquake', 'Nevada')\n",
        "EarthquakesByLocation['place'] = EarthquakesByLocation['place'].str.replace('Mexico Earthquake', 'Mexico')\n",
        "EarthquakesByLocation['place'] = EarthquakesByLocation['place'].str.replace('California Earthquake', 'California')\n",
        "EarthquakesByLocation['place'] = EarthquakesByLocation['place'].str.replace('Gulf of Mexico', 'Mexico')\n",
        "EarthquakesByLocation['place'] = EarthquakesByLocation['place'].str.replace('Gulf of California', 'California')\n",
        "EarthquakesByLocation['place'] = EarthquakesByLocation['place'].str.replace('western Texas', 'Texas')\n",
        "EarthquakesByLocation['place'] = EarthquakesByLocation['place'].str.replace('Nevada Earthquake', 'Nevada')\n",
        "\n",
        "\n",
        "# now get the very end of the string\n",
        "def end(string):\n",
        "  # splits the string then returns the very end, which is what we care about\n",
        "  return string.split(',')[-1]\n",
        "\n",
        "# now applyt this functions to every place so we get the location\n",
        "EarthquakesByLocation['place'] = EarthquakesByLocation['place'].apply(end)\n",
        "\n",
        "# now group by location, and lets see what we get\n",
        "print(EarthquakesByLocation.groupby('place').size())\n",
        "\n",
        "# theres an issue with duplicates it seems, need to merge somehow"
      ],
      "metadata": {
        "colab": {
          "base_uri": "https://localhost:8080/"
        },
        "id": "GLPI3cpJIoaa",
        "outputId": "a79be3c5-584a-4e2f-a498-10f56bfd4caa"
      },
      "execution_count": 387,
      "outputs": [
        {
          "output_type": "stream",
          "name": "stdout",
          "text": [
            "place\n",
            " Alabama                                     1\n",
            " Arizona                                     3\n",
            " Arkansas                                    1\n",
            " Bermuda                                     2\n",
            " California                                217\n",
            " Canada                                      8\n",
            " Colorado                                    4\n",
            " Idaho                                      15\n",
            " Illinois                                    2\n",
            " Indiana                                     1\n",
            " Kansas                                      3\n",
            " Louisiana                                   2\n",
            " Maine                                       1\n",
            " Maryland                                    1\n",
            " Mexico                                    310\n",
            " Montana                                     4\n",
            " Nevada                                     48\n",
            " New Mexico                                  5\n",
            " New York                                    1\n",
            " North Carolina                              1\n",
            " Oklahoma                                   14\n",
            " Oregon                                      4\n",
            " Texas                                       9\n",
            " Utah                                        5\n",
            " Virginia                                    3\n",
            " Washington                                  7\n",
            " Wyoming                                     6\n",
            "California                                   2\n",
            "Lake Almanor Earthquake                      1\n",
            "Mexico                                       1\n",
            "North Atlantic Ocean                         1\n",
            "North Pacific Ocean                          1\n",
            "Ridgecrest Earthquake Sequence               2\n",
            "Texas                                        1\n",
            "Wyoming                                      1\n",
            "off the east coast of the United States      3\n",
            "dtype: int64\n"
          ]
        }
      ]
    },
    {
      "cell_type": "markdown",
      "source": [
        "Lets rearrange this in descending order to get a better feel"
      ],
      "metadata": {
        "id": "BVdGHCK3a5Dz"
      }
    },
    {
      "cell_type": "code",
      "source": [
        "EarthquakesByLocationGrouped = EarthquakesByLocation.groupby('place').size()\n",
        "EarthquakesByLocationGroupedSorted = EarthquakesByLocationGrouped.sort_values(ascending=False)\n",
        "print(EarthquakesByLocationGroupedSorted)"
      ],
      "metadata": {
        "id": "lCTmcXqHa_Fu",
        "colab": {
          "base_uri": "https://localhost:8080/"
        },
        "outputId": "4a94db0f-abeb-406e-f89f-4424c24cdb13"
      },
      "execution_count": 388,
      "outputs": [
        {
          "output_type": "stream",
          "name": "stdout",
          "text": [
            "place\n",
            " Mexico                                    310\n",
            " California                                217\n",
            " Nevada                                     48\n",
            " Idaho                                      15\n",
            " Oklahoma                                   14\n",
            " Texas                                       9\n",
            " Canada                                      8\n",
            " Washington                                  7\n",
            " Wyoming                                     6\n",
            " Utah                                        5\n",
            " New Mexico                                  5\n",
            " Colorado                                    4\n",
            " Oregon                                      4\n",
            " Montana                                     4\n",
            " Virginia                                    3\n",
            " Arizona                                     3\n",
            "off the east coast of the United States      3\n",
            " Kansas                                      3\n",
            "Ridgecrest Earthquake Sequence               2\n",
            " Louisiana                                   2\n",
            " Illinois                                    2\n",
            " Bermuda                                     2\n",
            "California                                   2\n",
            "Mexico                                       1\n",
            "North Pacific Ocean                          1\n",
            "North Atlantic Ocean                         1\n",
            "Texas                                        1\n",
            "Wyoming                                      1\n",
            " Alabama                                     1\n",
            "Lake Almanor Earthquake                      1\n",
            " North Carolina                              1\n",
            " Maryland                                    1\n",
            " Maine                                       1\n",
            " Indiana                                     1\n",
            " Arkansas                                    1\n",
            " New York                                    1\n",
            "dtype: int64\n"
          ]
        }
      ]
    },
    {
      "cell_type": "markdown",
      "source": [
        "Lets plot this info"
      ],
      "metadata": {
        "id": "AeXY2FC8J5q7"
      }
    },
    {
      "cell_type": "code",
      "source": [
        "Data = EarthquakesByLocationGroupedSorted\n",
        "Data.plot.bar()"
      ],
      "metadata": {
        "colab": {
          "base_uri": "https://localhost:8080/",
          "height": 717
        },
        "id": "5cJfPAjxSBWM",
        "outputId": "dd600357-4f36-4d3f-eff0-9e162308f652"
      },
      "execution_count": 389,
      "outputs": [
        {
          "output_type": "execute_result",
          "data": {
            "text/plain": [
              "<Axes: xlabel='place'>"
            ]
          },
          "metadata": {},
          "execution_count": 389
        },
        {
          "output_type": "display_data",
          "data": {
            "text/plain": [
              "<Figure size 640x480 with 1 Axes>"
            ],
            "image/png": "[encoded data removed]"
          },
          "metadata": {}
        }
      ]
    },
    {
      "cell_type": "markdown",
      "source": [
        "So Mexico had the most amount of earthquakes with an amount of 310 followed by California with an amount of 217.\n",
        "\n",
        "To take an even closer look, lets graph the Mexico and Californias magnititude of earthquake by year to see their overall trends:"
      ],
      "metadata": {
        "id": "Mi0sdDBaSUhe"
      }
    },
    {
      "cell_type": "code",
      "source": [
        "# making separate dfs for mexico and california\n",
        "\n",
        "# Mexico\n",
        "EarthquakesByLocationMexico = EarthquakesByYear[EarthquakesByYear['place'].str.contains('Mexico')]\n",
        "EarthquakesByLocationMexico = EarthquakesByLocationMexico.groupby('year')['mag'].mean()\n",
        "print(\"Average magnitude by year in Mexico: \")\n",
        "print(EarthquakesByLocationMexico)\n",
        "\n",
        "plt.figure(figsize=(10, 5))\n",
        "plt.plot(EarthquakesByLocationMexico.index, EarthquakesByLocationMexico.values, marker='o')\n",
        "plt.title('Average Magnitude of Earthquakes in Mexico by Year')\n",
        "plt.xlabel('Year')\n",
        "plt.ylabel('Average Magnitude')\n",
        "plt.show()\n",
        "\n",
        "# California\n",
        "EarthquakesByLocationCalifornia = EarthquakesByYear[EarthquakesByYear['place'].str.contains('California')]\n",
        "EarthquakesByLocationCalifornia = EarthquakesByLocationCalifornia.groupby('year')['mag'].mean()\n",
        "print(\"Average magnitude by year in California: \")\n",
        "print(EarthquakesByLocationCalifornia)\n",
        "\n",
        "plt.figure(figsize=(10, 5))\n",
        "plt.plot(EarthquakesByLocationCalifornia.index, EarthquakesByLocationCalifornia.values, marker='o')\n",
        "plt.title('Average Magnitude of Earthquakes in California by Year')\n",
        "plt.xlabel('Year')\n",
        "plt.ylabel('Average Magnitude')\n",
        "plt.show()"
      ],
      "metadata": {
        "colab": {
          "base_uri": "https://localhost:8080/",
          "height": 1000
        },
        "id": "kMwddMyGdY6b",
        "outputId": "456bcb5a-7eef-4190-9141-4fbf16ce7f28"
      },
      "execution_count": 390,
      "outputs": [
        {
          "output_type": "stream",
          "name": "stdout",
          "text": [
            "Average magnitude by year in Mexico: \n",
            "year\n",
            "2000    4.775714\n",
            "2001    4.981667\n",
            "2002    4.960000\n",
            "2003    5.211250\n",
            "2004    5.037500\n",
            "2005    5.066667\n",
            "2006    5.133529\n",
            "2007    5.105263\n",
            "2008    4.911765\n",
            "2009    5.110000\n",
            "2010    4.983714\n",
            "2011    4.890313\n",
            "2012    5.059500\n",
            "2013    5.081818\n",
            "2014    4.838462\n",
            "2015    5.331667\n",
            "2016    4.871429\n",
            "2017    5.700000\n",
            "2018    4.890000\n",
            "2019    4.833333\n",
            "2020    4.887143\n",
            "2021    4.711290\n",
            "2022    4.985000\n",
            "2023    4.652857\n",
            "Name: mag, dtype: float64\n"
          ]
        },
        {
          "output_type": "display_data",
          "data": {
            "text/plain": [
              "<Figure size 1000x500 with 1 Axes>"
            ],
            "image/png": "[encoded data removed]"
          },
          "metadata": {}
        },
        {
          "output_type": "stream",
          "name": "stdout",
          "text": [
            "Average magnitude by year in California: \n",
            "year\n",
            "2000    4.602000\n",
            "2001    4.930000\n",
            "2002    4.808333\n",
            "2003    4.901250\n",
            "2004    4.966667\n",
            "2005    4.795455\n",
            "2006    4.651667\n",
            "2007    4.926000\n",
            "2008    4.855556\n",
            "2009    4.816000\n",
            "2010    4.966875\n",
            "2011    4.623333\n",
            "2012    5.147000\n",
            "2013    4.998000\n",
            "2014    4.825556\n",
            "2015    4.870000\n",
            "2016    4.956667\n",
            "2017    4.580000\n",
            "2018    4.975000\n",
            "2019    4.764571\n",
            "2020    4.877333\n",
            "2021    5.142727\n",
            "2022    5.018571\n",
            "2023    4.853000\n",
            "Name: mag, dtype: float64\n"
          ]
        },
        {
          "output_type": "display_data",
          "data": {
            "text/plain": [
              "<Figure size 1000x500 with 1 Axes>"
            ],
            "image/png": "[encoded data removed]"
          },
          "metadata": {}
        }
      ]
    },
    {
      "cell_type": "markdown",
      "source": [
        "As you can see, the overall trend of the magnititudes of Earquakes in Mexico has gotten lower, with there being 1 major peak. The same for California except there are more than 1 major peaks meaning that there are more than 1 earthquakes with with extremely high magntitudes, diriving the average up.\n",
        "\n",
        "Looking at both graphs, the trend is that there is always going to be a peak, meaning that there will always be at least one high average for the year."
      ],
      "metadata": {
        "id": "WR6rgTWyjCkV"
      }
    },
    {
      "cell_type": "markdown",
      "source": [
        "---"
      ],
      "metadata": {
        "id": "r-R5mMGlKdra"
      }
    },
    {
      "cell_type": "markdown",
      "source": [
        "# Hypothesis Testing\n",
        "\n",
        "Now let us perform some hypothesis testing using an alpha value of 0.05.\n",
        "\n",
        "This first test looks at the mean magnitudes of the least recent and most recent years in our dataset via a t-test.\n",
        "\n",
        "**H0**: The year does not  make a statistically significant difference with regards to the magnitudes of earthquakes that occur.\n",
        "\n",
        "**Ha**: The year makes a statistically significant difference with regards to the magnitudes of earthquakes that occur."
      ],
      "metadata": {
        "id": "v50ELXLtgmVj"
      }
    },
    {
      "cell_type": "code",
      "source": [
        "df = EarthquakesByLocation\n",
        "\n",
        "df_2000 = df[df['year'] == 2000]\n",
        "df_2023 = df[df['year'] == 2023]\n",
        "\n",
        "t_stat, p_value = ttest_ind(df_2000['mag'], df_2023['mag'])\n",
        "\n",
        "print(p_value)"
      ],
      "metadata": {
        "colab": {
          "base_uri": "https://localhost:8080/"
        },
        "id": "QRlRheGAgtLF",
        "outputId": "14954737-4a4b-49ce-c8b8-d71aa594195b"
      },
      "execution_count": 391,
      "outputs": [
        {
          "output_type": "stream",
          "name": "stdout",
          "text": [
            "0.34049551254424804\n"
          ]
        }
      ]
    },
    {
      "cell_type": "markdown",
      "source": [
        "As we can see, the p-value ≈ 0.34, which is greather than alpha, 0.05, so we fail to reject the null hypothesis and we cannot say that the year of an earthquake has no effect on the magnitude.\n",
        "\n",
        "Now let us conduct a t-test on another hypothesis, comparing the magnitudes of the locations with the most earthquakes: California and Mexico.\n",
        "\n",
        "**H0**: Mexico will not have a higher mean magnitude compared to California.\n",
        "\n",
        "**Ha**: Mexico will have a higher mean magnitude compared to California.\n"
      ],
      "metadata": {
        "id": "yPhJPQuRwGO3"
      }
    },
    {
      "cell_type": "code",
      "source": [
        "df_Mexico = df[df['place'] == 'Mexico']\n",
        "df_California = df[df['place'] == 'California']\n",
        "\n",
        "t_stat, p_value = ttest_ind(df_Mexico['mag'], df_California['mag'])\n",
        "\n",
        "print(p_value)"
      ],
      "metadata": {
        "colab": {
          "base_uri": "https://localhost:8080/"
        },
        "id": "d7obCmXjyKVx",
        "outputId": "8c5dbc6f-ef42-4867-98c7-896877a956f9"
      },
      "execution_count": 392,
      "outputs": [
        {
          "output_type": "stream",
          "name": "stdout",
          "text": [
            "0.30507862328820307\n"
          ]
        }
      ]
    },
    {
      "cell_type": "markdown",
      "source": [
        "As we can see, the p-value ≈ 0.305, which is greater than alpha, 0.05, so we fail to reject the null hypothesis again. Using 2 T-tests, we've seen that both year and specific location could have some correlation with magnitude.\n",
        "\n",
        "\n",
        "\n",
        "Now let us conduct a chi-squared on another hypothesis, comparing if an earthquake is \"pretty damaging\" (defined as having a magnitude of 6.1 or higher) based on its location.\n",
        "\n",
        "**H0**: Place will not impact if it the earthquake is pretty damaging.\n",
        "\n",
        "**Ha**: Place will impact if the earthquake is pretty damaging.\n"
      ],
      "metadata": {
        "id": "tqAlmkZhzuaS"
      }
    },
    {
      "cell_type": "code",
      "source": [
        "df2 = df.copy()\n",
        "\n",
        "df2['mag'] = df2['mag'].apply(lambda x: 'Pretty Damaging' if x >= 6.1 else 'Not')\n",
        "\n",
        "table = pd.crosstab(df2[\"place\"], df2[\"mag\"])\n",
        "statistic, pvalue, dof, expected_freq = stats.chi2_contingency(table)\n",
        "print(pvalue)\n"
      ],
      "metadata": {
        "colab": {
          "base_uri": "https://localhost:8080/"
        },
        "id": "2jr8j6Bo2sTH",
        "outputId": "3dc0761d-0e6b-4129-8081-1386890fb9f4"
      },
      "execution_count": 393,
      "outputs": [
        {
          "output_type": "stream",
          "name": "stdout",
          "text": [
            "0.001998312465076947\n"
          ]
        }
      ]
    },
    {
      "cell_type": "markdown",
      "source": [
        "We reject the null hypothesis because the p-value is extremely low (close to 0 and less than alpha), which means the probability that the observed differences are due to chance is very low."
      ],
      "metadata": {
        "id": "Gsw59U0R6Hmp"
      }
    },
    {
      "cell_type": "markdown",
      "source": [
        "This part of the data life cycle is used to test our own predictions about the data. If you want a more in depth explaination of hypothesis testing cick on [this link](https://realpython.com/linear-regression-in-python/)!"
      ],
      "metadata": {
        "id": "hikY_5HWZ-2B"
      }
    },
    {
      "cell_type": "markdown",
      "source": [
        "---"
      ],
      "metadata": {
        "id": "oa1XbTyUKhLA"
      }
    },
    {
      "cell_type": "markdown",
      "source": [
        "# 4. Primary Analysis\n"
      ],
      "metadata": {
        "id": "R8Gz3UgiIIXd"
      }
    },
    {
      "cell_type": "markdown",
      "source": [
        "During this part of the data lifecycle, we now use machine learning techniques such as linear regression to create a predictive model of our data. This predictive model allows us to predicts values for data that isn't specifically in our dataset.\n",
        "\n",
        "Follow this [link](https://realpython.com/linear-regression-in-python/) for more in depth information about linear regression!"
      ],
      "metadata": {
        "id": "hiPT53s2INaO"
      }
    },
    {
      "cell_type": "code",
      "source": [
        "# change the time to be more consistent and readable\n",
        "df['time'] = pd.to_datetime(df['time'])\n",
        "\n",
        "# extract features and target variable\n",
        "df['year'] = df['time'].dt.year\n",
        "\n",
        "earthquakes_by_mean_mag = df.groupby('year')['mag'].mean().reset_index()\n",
        "X = earthquakes_by_mean_mag[['year']]\n",
        "y = earthquakes_by_mean_mag['mag']\n",
        "\n",
        "# split data into training and testing sets\n",
        "X_train, X_test, y_train, y_test = train_test_split(X, y, test_size=0.3)\n",
        "\n",
        "model = LinearRegression()\n",
        "model.fit(X_train, y_train)\n",
        "\n",
        "# create array of future years you want to predict\n",
        "future_years = pd.DataFrame([[2024], [2025], [2026], [2027], [2028], [2029], [2030], [2031], [2032], [2033], [2034], [2035]], columns = [\"year\"])\n",
        "predicted_mean_mags = model.predict(future_years)\n",
        "\n",
        "r_2 = model.score(X_test, y_test)\n",
        "print(f\"R^2: %r\" % r_2)"
      ],
      "metadata": {
        "colab": {
          "base_uri": "https://localhost:8080/"
        },
        "id": "2JTO9sDgmOKN",
        "outputId": "28649d1d-c301-4229-a240-c9d4214a51f6"
      },
      "execution_count": 394,
      "outputs": [
        {
          "output_type": "stream",
          "name": "stdout",
          "text": [
            "R^2: 0.047836979894097076\n"
          ]
        }
      ]
    },
    {
      "cell_type": "markdown",
      "source": [
        "# 5. Visualization"
      ],
      "metadata": {
        "id": "fESHK0lxmSyy"
      }
    },
    {
      "cell_type": "code",
      "source": [
        "# Plot the graph\n",
        "plt.scatter(X, y, color='black', label='Known Data')\n",
        "plt.plot(X, model.predict(X), color='blue', label='Linear Regression')\n",
        "plt.scatter(future_years, predicted_mean_mags, color='red', label='Predicted Future Mean Magnitudes')\n",
        "\n",
        "plt.xlabel(\"Year\")\n",
        "plt.ylabel(\"Mean Magnitude\")\n",
        "plt.title(\"Mean Magnitude Over Time\")\n",
        "plt.legend()\n",
        "plt.grid(True)\n",
        "plt.show()"
      ],
      "metadata": {
        "colab": {
          "base_uri": "https://localhost:8080/",
          "height": 472
        },
        "id": "6fCPRY43MVSP",
        "outputId": "961e9165-6afd-4114-e0e8-8c854d37882f"
      },
      "execution_count": 395,
      "outputs": [
        {
          "output_type": "display_data",
          "data": {
            "text/plain": [
              "<Figure size 640x480 with 1 Axes>"
            ],
            "image/png": "[encoded data removed]"
          },
          "metadata": {}
        }
      ]
    },
    {
      "cell_type": "markdown",
      "source": [
        "Based on the scatterplot with known data, we can see there is an overall negtive association between the mean magnititude of the earthquake, and the year, menaing that in earlier years, the mean magnitude of the earthquakes were much more higher, and have started to go lower more recently. However, there are special cases in which the data is split between high and low mean magnitiudes so it is hard to tell.\n",
        "\n",
        "\n",
        "The Linear Regression model predicts that the future mean magnitutdes will be slightly lower throughout the years, but based on the known data that is hard to tell since for at least one low magnititude value, it is preceded by a high magnititude value in the following year.\n",
        "\n",
        "One can observe the lower correlation between the points denoted by the R^2 value of 0.045. The model predicts a slight downward trend, which is plausible given the known data."
      ],
      "metadata": {
        "id": "VVk9RX3TXRM1"
      }
    },
    {
      "cell_type": "markdown",
      "source": [
        "---"
      ],
      "metadata": {
        "id": "T6wcDjBzKith"
      }
    },
    {
      "cell_type": "markdown",
      "source": [
        "# 6. Insights and Conclusions"
      ],
      "metadata": {
        "id": "59C9cGN-iTp9"
      }
    },
    {
      "cell_type": "markdown",
      "source": [
        "Through data analysis and hypothesis testing we can determine that while location does have an effect on the magnitude of earthquakes, the increasing global temperature doesn't seem to have an effect in our time range. However, this could change over a larger time frame as only 2 decades might not have a noticable effect on earthquake intensity.\n",
        "\n",
        "Furthermore, what we can conclude from analysis is that the areas of interest that do need to be kept a close eye on are Mexico and California, with their alarmingly high amount of earthquakes and stats over the past 2 decades. Those locations in particular bear the brunt of earthquakes, which could be the result of them being a part of the Pacific Ring of Fire.\n",
        "\n",
        "One of the limitations of our project is that our data is limited to earthquakes in the United States (plus Canada and Mexico). We can expand on our research in a future project by focusing specifically on locations in areas with a relatively high-frequency rate in a region on the boundary of tectonic plates (such as the Pacific Ring of Fire). Then we can focus on determining which variables most separate the locations with more frequent/more damaging earthquakes and the locations with the least frequent/least damaging earthquakes of the region."
      ],
      "metadata": {
        "id": "ZKqjpZwiixfN"
      }
    }
  ]
}